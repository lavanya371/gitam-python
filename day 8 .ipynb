{
 "cells": [
  {
   "cell_type": "markdown",
   "metadata": {},
   "source": [
    "### Day objectives\n",
    "-- Python data structures\n",
    "- lists\n",
    "-tuples\n",
    "- dictionaries\n",
    "- basic program sets on data structures\n",
    "- advanced problem set\n",
    "- contact application(dictionary object)\n",
    "\n",
    "DATA STRUCTURES:-\n",
    "             TO STORE,SEARCH AND SORT THE DATA."
   ]
  },
  {
   "cell_type": "markdown",
   "metadata": {},
   "source": [
    "### Python data structures\n",
    "### Lists\n",
    " -  it's one of the common data structures supports by python,the list items\n",
    " \n",
    "  examples:-\n",
    "  - list1 = [1,6,2,18,9]\n",
    "  - list2 =[\"gitam\",10,56,python]"
   ]
  },
  {
   "cell_type": "code",
   "execution_count": 3,
   "metadata": {},
   "outputs": [
    {
     "name": "stdout",
     "output_type": "stream",
     "text": [
      "[1, 8, 16, 9, 2]\n",
      "1\n",
      "8\n",
      "2\n",
      "9\n",
      "[8, 16, 9, 2]\n",
      "[8, 16, 9]\n"
     ]
    }
   ],
   "source": [
    "\n",
    "lst =[1,8,16,9,2] # creating the list object in python\n",
    "print(lst) # access the entire list\n",
    "print(lst[0])# access the first item list\n",
    "print(lst[1])# access the second item list\n",
    "print(lst[-1]) # access the last item list\n",
    "print(lst[-2])\n",
    "print(lst[1:])# access the list from first item\n",
    "print(lst[1:4])# access the list from first to third item"
   ]
  },
  {
   "cell_type": "code",
   "execution_count": 1,
   "metadata": {},
   "outputs": [
    {
     "name": "stdout",
     "output_type": "stream",
     "text": [
      "['gitam', 'python', 1989, 2002]\n",
      "['gitam', 'python', 2019, 2002]\n"
     ]
    }
   ],
   "source": [
    "# update the listitem values using index (direct reference)\n",
    "li=[\"gitam\",\"python\",1989,2002]\n",
    "print(li)\n",
    "li[2] = 2019\n",
    "print(li)"
   ]
  },
  {
   "cell_type": "code",
   "execution_count": 2,
   "metadata": {},
   "outputs": [
    {
     "name": "stdout",
     "output_type": "stream",
     "text": [
      "['gitam', 'python', 2019, 2002]\n",
      "['gitam', 'python', 2002]\n"
     ]
    }
   ],
   "source": [
    "#delete the specific item in the list\n",
    "li=[\"gitam\",\"python\",2019,2002]\n",
    "print(li)\n",
    "del li[2]\n",
    "print(li)"
   ]
  },
  {
   "cell_type": "code",
   "execution_count": 8,
   "metadata": {},
   "outputs": [
    {
     "name": "stdout",
     "output_type": "stream",
     "text": [
      "5\n",
      "[1, 9, 6, 18, 2, 1, 9, 6, 18, 2]\n",
      "5\n",
      "False\n",
      "1 9 6 18 2 "
     ]
    }
   ],
   "source": [
    "#basic list operators\n",
    "lst1=[1,9,6,18,2]\n",
    "print(len(lst1)) # print the length of the list\n",
    "print(lst1*2) # indicates how many times the list has to be repeated\n",
    "print(len(lst1))\n",
    "print(7 in (lst1)) # indictes the presence of that number in the list\n",
    "for x in range(len(lst1)):\n",
    "    print(lst1[x],end=' ')"
   ]
  },
  {
   "cell_type": "code",
   "execution_count": 37,
   "metadata": {},
   "outputs": [
    {
     "name": "stdout",
     "output_type": "stream",
     "text": [
      "1\n",
      "18\n",
      "36\n",
      "7\n",
      "13.5\n"
     ]
    }
   ],
   "source": [
    "# function of the list\n",
    "lst1=[1,9,6,18,2]\n",
    "print(min(lst1)) #min item/element of the list\n",
    "print(max(lst1)) #max item/element of the list\n",
    "print (sum(lst1)) # sum of the elements in the list\n",
    "print(sum(lst1)//len(lst1)) # average of list elements\n",
    "print(sum(lst1[1::2])/len(lst1[1::2])) # average of all alternate ele\n"
   ]
  },
  {
   "cell_type": "code",
   "execution_count": 38,
   "metadata": {},
   "outputs": [
    {
     "data": {
      "text/plain": [
       "[45, 23, 123, 24, 18, 9, 6, 1]"
      ]
     },
     "execution_count": 38,
     "metadata": {},
     "output_type": "execute_result"
    }
   ],
   "source": [
    "lst1\n",
    "lst1.append(24) # adding a new elememnt in the end of the list\n",
    "print(lst1)\n",
    "lst1.insert(2,56) # adding an element at an particular index(positon)\n",
    "print(lst1)\n",
    "lst1.count(18)# return the value how many times the object repeated\n",
    "lst1.index(56)# the position of that element\n",
    "lst1.sort() # it sorts the list in ascending order\n",
    "lst1\n",
    "lst1.pop() # remove the last element from the list\n",
    "lst1\n",
    "lst1.pop(1) # remove an element from an particular index\n",
    "lst2=[123,23,45]\n",
    "lst1.extend(lst2) # merges list2 in list1\n",
    "lst1\n",
    "lst1.reverse()\n",
    "lst1"
   ]
  },
  {
   "cell_type": "code",
   "execution_count": 25,
   "metadata": {},
   "outputs": [
    {
     "name": "stdout",
     "output_type": "stream",
     "text": [
      "[6, 9]\n"
     ]
    }
   ],
   "source": [
    "li=[1,9,8,2,6,3]\n",
    "print(li[-2::-3])"
   ]
  },
  {
   "cell_type": "code",
   "execution_count": 52,
   "metadata": {},
   "outputs": [
    {
     "data": {
      "text/plain": [
       "[2, 2, 2, 3, 6, 2, 8, 9, 1]"
      ]
     },
     "execution_count": 52,
     "metadata": {},
     "output_type": "execute_result"
    }
   ],
   "source": [
    "li=[1,9,8,2,6,3,2,2,2]\n",
    "li.reverse()\n",
    "li"
   ]
  },
  {
   "cell_type": "code",
   "execution_count": 60,
   "metadata": {},
   "outputs": [
    {
     "data": {
      "text/plain": [
       "6"
      ]
     },
     "execution_count": 60,
     "metadata": {},
     "output_type": "execute_result"
    }
   ],
   "source": [
    "#function to find the second large item from the list\n",
    "#input:- [1,19,6,2,18,3]\n",
    "#output: 18\n",
    "def secondLarge (li):   # sort the list using sort()\n",
    "    li.sort()           #return the value from reverse direction li[-2]\n",
    "    return li[-2]\n",
    "li=[1,19,6,2,8,18,3]\n",
    "secondLarge(li)\n",
    "def genricLarge (li,n):\n",
    "    li.sort()\n",
    "    return li[-n]\n",
    "li=[1,19,6,2,8,18,3]\n",
    "genricLarge(li,4) # it indictes fourth least\n",
    "    "
   ]
  },
  {
   "cell_type": "code",
   "execution_count": 64,
   "metadata": {},
   "outputs": [
    {
     "data": {
      "text/plain": [
       "[[1, 19, 6, 2, 8, 18, 3], 3]"
      ]
     },
     "execution_count": 64,
     "metadata": {},
     "output_type": "execute_result"
    }
   ],
   "source": [
    "def secondLeast(li):\n",
    "    li.sort()\n",
    "    return li[1]\n",
    "li=[1,19,6,2,8,18,3]\n",
    "def genricLeast(li,n):\n",
    "    li.sort\n",
    "    return[li,n-1]\n",
    "li=[1,19,6,2,8,18,3]\n",
    "genricLeast(li,4)"
   ]
  },
  {
   "cell_type": "markdown",
   "metadata": {},
   "source": [
    "### Searching algorithms\n",
    "  - linear search\n",
    "  - binary search"
   ]
  },
  {
   "cell_type": "markdown",
   "metadata": {},
   "source": [
    "### Linear search\n",
    "- Linear search algorithm can be applied on duplicate and unique list\n",
    "  - unique list: all the items in the list can be appeared only once\n",
    "  -duplicate list: the items in the list can be appeared more than once\n",
    "- linear search algorithm can be applied on sorted lists and also on unsorted lists"
   ]
  },
  {
   "cell_type": "code",
   "execution_count": 67,
   "metadata": {},
   "outputs": [
    {
     "data": {
      "text/plain": [
       "6"
      ]
     },
     "execution_count": 67,
     "metadata": {},
     "output_type": "execute_result"
    }
   ],
   "source": [
    "# function to  search the data in a List\n",
    "# search is foumd return the index or else return -1\n",
    "def linearSearch(li,tarItem):\n",
    "    for x in range(len(li)):\n",
    "        if li[x] == tarItem:\n",
    "            return x                  x represents the index\n",
    "    return -1                       li[x] represent the value at particular index\n",
    "li=[1,19,6,2,8,18,3]\n",
    "linearSearch(li,3)"
   ]
  },
  {
   "cell_type": "code",
   "execution_count": 69,
   "metadata": {},
   "outputs": [
    {
     "name": "stdout",
     "output_type": "stream",
     "text": [
      "1 4 8 "
     ]
    }
   ],
   "source": [
    "# function \n",
    "#INPUT:- [1,5,9,6,5,15,1,2,5] # DUPLICATE LIST key = 5\n",
    "#output: 1 4 8\n",
    "def linearSearch2(li,taritem):\n",
    "    for x in range (len(li)):\n",
    "        if li[x] == taritem:\n",
    "            print(x,end=\" \")\n",
    "    return\n",
    "li=[1,5,9,6,5,15,1,2,5]\n",
    "linearSearch2(li,5)"
   ]
  },
  {
   "cell_type": "code",
   "execution_count": 77,
   "metadata": {},
   "outputs": [
    {
     "name": "stdout",
     "output_type": "stream",
     "text": [
      "! ! ! ! ! ! ! ! ! ! ! ! ! ! ! ! "
     ]
    }
   ],
   "source": [
    "#function\n",
    "#input:list\n",
    "#output: seq of characters\n",
    "#testt case\n",
    "#[1,5,9,6,5,15,1,2,5],tar=5 -- !! !!!!! !!!!!!!!!\n",
    "def linearsearch3(li,taritem):\n",
    "    for x in range(len(li)):\n",
    "        if li[x] == taritem:\n",
    "            j=0\n",
    "            while j != x+1:\n",
    "                print(\"!\", end= \"\")\n",
    "                j= j + 1\n",
    "                print(end=\" \")\n",
    "    return\n",
    "li = [1,5,9,6,5,15,1,2,5]\n",
    "linearsearch3(li,5) #!! !!!!! !!!!!!!!!"
   ]
  },
  {
   "cell_type": "code",
   "execution_count": 87,
   "metadata": {},
   "outputs": [
    {
     "data": {
      "text/plain": [
       "60"
      ]
     },
     "execution_count": 87,
     "metadata": {},
     "output_type": "execute_result"
    }
   ],
   "source": [
    "# function\n",
    "#input:list\n",
    "#ouput: formatted\n",
    "#test case:\n",
    "# [12,2,45,9,18,15,36] -- 60\n",
    "# a list item perfectly mulitiplre of3 & 5\n",
    "def linearsearch4(li):\n",
    "    sum = 0\n",
    "    for x in range (len(li)):\n",
    "        if li[x] % 3 == 0 and li[x] % 5 == 0:\n",
    "            sum += li[x]\n",
    "    return sum\n",
    "li=[12,2,45,9,18,15,36]\n",
    "linearsearch4(li) #60\n"
   ]
  },
  {
   "cell_type": "code",
   "execution_count": 89,
   "metadata": {},
   "outputs": [
    {
     "name": "stdout",
     "output_type": "stream",
     "text": [
      "1 3 8 15 5 "
     ]
    }
   ],
   "source": [
    "# function      #1.print first and last as it is because first number doesnot have previous and last doesnot have the next number\n",
    "#input : list\n",
    "# output :formatted output           # need to multiply previous and last number\n",
    "#[1,2,3,4,5] -- [1,3,8,15,5]\n",
    "def linearsearch5(li):\n",
    "    for x in range (len(li)):\n",
    "        if x == 0 or x== len(li) -1:\n",
    "            print(li[x],end=\" \")\n",
    "        else:\n",
    "            print(li[x-1]*li[x+1],end=\" \")\n",
    "    return\n",
    "li=[1,2,3,4,5]\n",
    "linearsearch5(li)"
   ]
  },
  {
   "cell_type": "code",
   "execution_count": 92,
   "metadata": {},
   "outputs": [
    {
     "name": "stdout",
     "output_type": "stream",
     "text": [
      "1 9 19 22 "
     ]
    }
   ],
   "source": [
    "#function:\n",
    "#input: list              #first and last elements areprinted as it is\n",
    "#output:formatted output   # both sides numbers are even then the number is   printed\n",
    "#test cases:\n",
    "#[1,6,9,4,16,19,22] -- 1 9 19 22 \n",
    "def linearsearch6(li):\n",
    "    for x in range (len(li)):\n",
    "        if x == 0 or x == len(li)-1:\n",
    "            print(li[x],end = \" \")\n",
    "        elif li[x-1] % 2 == 0 and li[x+1] % 2 == 0:\n",
    "            print(li[x],end = \" \")\n",
    "    return\n",
    "li=[1,6,9,4,16,19,22]\n",
    "linearsearch6(li) "
   ]
  },
  {
   "cell_type": "markdown",
   "metadata": {},
   "source": [
    "### Number to list\n",
    "- input as number\n",
    "- expected ouput is a list\n"
   ]
  },
  {
   "cell_type": "code",
   "execution_count": 94,
   "metadata": {},
   "outputs": [
    {
     "data": {
      "text/plain": [
       "[1, 4, 5, 6, 9]"
      ]
     },
     "execution_count": 94,
     "metadata": {},
     "output_type": "execute_result"
    }
   ],
   "source": [
    "#function:\n",
    "#input: -- number\n",
    "#output: -- list\n",
    "#test cases:\n",
    "#14569 -- [1,4,5,6,9]\n",
    "def numberListConversion(n):\n",
    "    li=[]\n",
    "    while n != 0:\n",
    "        r = n% 10\n",
    "        li.append(r)\n",
    "        n = n // 10\n",
    "    li.reverse()\n",
    "    return li\n",
    "numberListConversion(14569)"
   ]
  },
  {
   "cell_type": "code",
   "execution_count": 97,
   "metadata": {},
   "outputs": [
    {
     "data": {
      "text/plain": [
       "2"
      ]
     },
     "execution_count": 97,
     "metadata": {},
     "output_type": "execute_result"
    }
   ],
   "source": [
    "# function to count the occurences of a character in a string\n",
    "#\"Python Programming\", ->2\n",
    "#\"python programming\",-> 2\n",
    "def countcharoccurences(s,c):\n",
    "    cnt = 0\n",
    "    for ch in s :\n",
    "        if ch == c:\n",
    "            cnt += 1\n",
    "    return cnt\n",
    "def countcharoccurences1(s,c):\n",
    "    return s.count(c)\n",
    "countcharoccurences(\"python programming\", 'g')"
   ]
  },
  {
   "cell_type": "markdown",
   "metadata": {},
   "source": [
    "### string to list conversion\n",
    "- input willbe string\n",
    "- expected output will be list"
   ]
  },
  {
   "cell_type": "code",
   "execution_count": 99,
   "metadata": {},
   "outputs": [
    {
     "data": {
      "text/plain": [
       "[1, 2, 3, 4, 5, 6]"
      ]
     },
     "execution_count": 99,
     "metadata": {},
     "output_type": "execute_result"
    }
   ],
   "source": [
    "#function to convert the string to list\n",
    "#test case\n",
    "#\"1,2,3,4,5,6\" -- [1,2,3,4,5,6]\n",
    "def strinttolistconversion(s):\n",
    "    li= s.split()\n",
    "    numberslist = []\n",
    "    for i in li:\n",
    "        numberslist.append(int(i))\n",
    "    return numberslist\n",
    "s = \"1 2 3 4 5 6\"\n",
    "strinttolistconversion(s)"
   ]
  },
  {
   "cell_type": "markdown",
   "metadata": {},
   "source": [
    "### sorting arrangements:--all sorting arrangements make the list into ascending order\n",
    "                         \n",
    "          "
   ]
  },
  {
   "cell_type": "markdown",
   "metadata": {},
   "source": [
    "## bubble sort\n",
    "-this algorithm compares the adj elements,if the first element is greater than the second element then its req to swap the elements\n"
   ]
  },
  {
   "cell_type": "code",
   "execution_count": 100,
   "metadata": {},
   "outputs": [
    {
     "data": {
      "text/plain": [
       "[1, 3, 6, 18, 19, 25]"
      ]
     },
     "execution_count": 100,
     "metadata": {},
     "output_type": "execute_result"
    }
   ],
   "source": [
    "#function to represent bubble sort\n",
    "def bubblesort(li):\n",
    "    for i in range (len(li)-1):\n",
    "        for j in range (len(li)-1):\n",
    "            if li[j] > li[j+1]:\n",
    "                li[j],li[j+1] = li[j+1],li[j]\n",
    "    return li\n",
    "li = [19,1,25,6,18,3]\n",
    "bubblesort(li)"
   ]
  },
  {
   "cell_type": "code",
   "execution_count": null,
   "metadata": {},
   "outputs": [],
   "source": []
  },
  {
   "cell_type": "code",
   "execution_count": null,
   "metadata": {},
   "outputs": [],
   "source": []
  }
 ],
 "metadata": {
  "kernelspec": {
   "display_name": "Python 3",
   "language": "python",
   "name": "python3"
  },
  "language_info": {
   "codemirror_mode": {
    "name": "ipython",
    "version": 3
   },
   "file_extension": ".py",
   "mimetype": "text/x-python",
   "name": "python",
   "nbconvert_exporter": "python",
   "pygments_lexer": "ipython3",
   "version": "3.7.3"
  }
 },
 "nbformat": 4,
 "nbformat_minor": 2
}
