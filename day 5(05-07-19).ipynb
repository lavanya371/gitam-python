{
 "cells": [
  {
   "cell_type": "markdown",
   "metadata": {},
   "source": [
    "# Markdown basics\n",
    "## Markdown basics\n",
    "### Markdown basics\n",
    "\n",
    "\n",
    "* **Point1** (bold)\n",
    "*  *Point2*  (italic)\n",
    "*  ***Point3*** (bold and italics)\n",
    "* Normal Text\n",
    "  - sublist1\n",
    "  \n",
    "# Adding links to Markdown\n",
    "* google site -- [1]:    http://www.google.com\n",
    "* msn site -- [2]: http://www.msn.com"
   ]
  },
  {
   "cell_type": "markdown",
   "metadata": {},
   "source": [
    "# Python basics\n",
    "\n",
    "*  Python version 3.7\n",
    "*  Functional programming\n",
    "*  Object oriented Programming\n",
    "*  Scripting programming\n"
   ]
  },
  {
   "cell_type": "code",
   "execution_count": 1,
   "metadata": {},
   "outputs": [
    {
     "name": "stdout",
     "output_type": "stream",
     "text": [
      "hello, gitam\n"
     ]
    }
   ],
   "source": [
    "print(\"hello, gitam\")"
   ]
  },
  {
   "cell_type": "code",
   "execution_count": 3,
   "metadata": {},
   "outputs": [
    {
     "name": "stdout",
     "output_type": "stream",
     "text": [
      "hello,gitam\n",
      "Hyderabad\n"
     ]
    }
   ],
   "source": [
    "print(\"hello,gitam\")\n",
    "print(\"Hyderabad\")"
   ]
  },
  {
   "cell_type": "code",
   "execution_count": 4,
   "metadata": {},
   "outputs": [
    {
     "name": "stdout",
     "output_type": "stream",
     "text": [
      "hello,gitam  ||| Hyderabad ||| Python programming\n"
     ]
    }
   ],
   "source": [
    "print(\"hello,gitam\",\" |||\",end = \" \")\n",
    "print(\"Hyderabad\", end = \" ||| \")\n",
    "print(\"Python programming\")"
   ]
  },
  {
   "cell_type": "code",
   "execution_count": 5,
   "metadata": {},
   "outputs": [
    {
     "name": "stdout",
     "output_type": "stream",
     "text": [
      "100\n",
      "111 222 333\n",
      "20 20 20\n"
     ]
    }
   ],
   "source": [
    "n1= 100   #single variable assignment\n",
    "a = b = c = 20 #multi variable assignment of the same value\n",
    "a1 , b1 ,c1 = 111 , 222 , 333  # multi variable assignment with different value\n",
    "print(n1)\n",
    "print(a1,b1,c1)\n",
    "print(a,b,c)"
   ]
  },
  {
   "cell_type": "markdown",
   "metadata": {},
   "source": [
    "# Data types and conversions\n",
    "*  int\n",
    "*  float\n",
    "*  string"
   ]
  },
  {
   "cell_type": "code",
   "execution_count": 6,
   "metadata": {},
   "outputs": [
    {
     "name": "stdout",
     "output_type": "stream",
     "text": [
      "100 Python P 10.2\n",
      "<class 'int'> <class 'str'> <class 'str'> <class 'float'>\n"
     ]
    }
   ],
   "source": [
    "a = 100\n",
    "s1 = \"Python\"\n",
    "s2 = 'P'\n",
    "f1 = 10.2\n",
    "print(a,s1,s2,f1)\n",
    "print(type(a), type(s1), type(s2), type(f1))\n"
   ]
  },
  {
   "cell_type": "code",
   "execution_count": 7,
   "metadata": {},
   "outputs": [
    {
     "name": "stdout",
     "output_type": "stream",
     "text": [
      "<class 'int'>\n",
      "<class 'str'>\n",
      "<class 'float'>\n"
     ]
    }
   ],
   "source": [
    "i = 100\n",
    "print(type(i))\n",
    "s1 = str(i)  #str() converts the input to string type function\n",
    "print(type(s1))\n",
    "s2=  float(i)  #float() converts the input to float type\n",
    "print (type(s2))"
   ]
  },
  {
   "cell_type": "code",
   "execution_count": 8,
   "metadata": {},
   "outputs": [
    {
     "name": "stdout",
     "output_type": "stream",
     "text": [
      "4\n"
     ]
    }
   ],
   "source": [
    "# a number is given 1234\n",
    "#digitcount\n",
    "a1 = 1234\n",
    "print(len(str(a1)))"
   ]
  },
  {
   "cell_type": "markdown",
   "metadata": {},
   "source": [
    "# Reading a value -- Input function\n",
    "* Input(\"Message\") -- String"
   ]
  },
  {
   "cell_type": "code",
   "execution_count": 9,
   "metadata": {},
   "outputs": [
    {
     "name": "stdout",
     "output_type": "stream",
     "text": [
      "Enter your names.lavanya\n",
      "s.lavanya\n",
      "<class 'str'>\n"
     ]
    }
   ],
   "source": [
    "s1 = input(\"Enter your name\")\n",
    "print(s1)\n",
    "print(type(s1))"
   ]
  },
  {
   "cell_type": "code",
   "execution_count": 10,
   "metadata": {},
   "outputs": [
    {
     "name": "stdout",
     "output_type": "stream",
     "text": [
      "Enter a number22\n",
      "22 <class 'int'>\n"
     ]
    }
   ],
   "source": [
    "# Want a number as a input\n",
    "n1 = int(input(\"Enter a number\"))\n",
    "print(n1,type(n1))"
   ]
  },
  {
   "cell_type": "markdown",
   "metadata": {},
   "source": [
    "# Operators\n",
    "* *Operators are symbols used to perform specific operations.*\n",
    "\n",
    "### Arithmetic operators\n",
    "* +\n",
    "* -\n",
    "* *\n",
    "* /\n",
    "* %\n",
    "* //\n",
    "\n"
   ]
  },
  {
   "cell_type": "code",
   "execution_count": 28,
   "metadata": {},
   "outputs": [
    {
     "name": "stdout",
     "output_type": "stream",
     "text": [
      "45\n",
      "25\n",
      "350\n",
      "3.5\n",
      "2758547353515625\n",
      "3\n",
      "5\n"
     ]
    }
   ],
   "source": [
    "n1 = 35\n",
    "print(n1+10)\n",
    "print(n1-10)\n",
    "print(n1*10)\n",
    "print(n1/10)\n",
    "print(n1**10)\n",
    "print(n1//10)\n",
    "print(n1%10)"
   ]
  },
  {
   "cell_type": "markdown",
   "metadata": {},
   "source": [
    "# Precedence of the Arth Operators\n",
    "* Parenthesis\n",
    "* Power\n",
    "* Multiplication\n",
    "* Addition"
   ]
  },
  {
   "cell_type": "markdown",
   "metadata": {},
   "source": [
    "### Left to Right"
   ]
  },
  {
   "cell_type": "code",
   "execution_count": 27,
   "metadata": {},
   "outputs": [
    {
     "name": "stdout",
     "output_type": "stream",
     "text": [
      "1\n"
     ]
    }
   ],
   "source": [
    "x = 1+5*34//56-3\n",
    "print(x)"
   ]
  },
  {
   "cell_type": "markdown",
   "metadata": {},
   "source": [
    "# Relational Operators\n",
    "*  ==  !=  < >  <=  >=\n"
   ]
  },
  {
   "cell_type": "code",
   "execution_count": 29,
   "metadata": {},
   "outputs": [
    {
     "name": "stdout",
     "output_type": "stream",
     "text": [
      "False\n"
     ]
    }
   ],
   "source": [
    "x=10\n",
    "a1 = x >= 34\n",
    "print(a1)"
   ]
  },
  {
   "cell_type": "markdown",
   "metadata": {},
   "source": [
    "# Logical Operators\n",
    "\n",
    "### Used to combine more than a single condition\n",
    "\n",
    "*  And\n",
    "*  Or\n",
    "* Not"
   ]
  },
  {
   "cell_type": "code",
   "execution_count": 30,
   "metadata": {},
   "outputs": [
    {
     "name": "stdout",
     "output_type": "stream",
     "text": [
      "False\n",
      "True\n"
     ]
    }
   ],
   "source": [
    "i = 100\n",
    "a1 = (i<15) and (i>100)\n",
    "a2 = (i>15) and (i<400)\n",
    "print(a1)\n",
    "print(a2)\n"
   ]
  },
  {
   "cell_type": "markdown",
   "metadata": {},
   "source": [
    "## Control Statements\n",
    "*  Conditional statements\n",
    "*  Looping statements"
   ]
  },
  {
   "cell_type": "markdown",
   "metadata": {},
   "source": [
    "### If - else statements\n",
    "\n",
    "### Syntax\n",
    "\n",
    "* if boolean_function\n",
    " * Statements\n",
    "*   else:\n",
    " * Statements"
   ]
  },
  {
   "cell_type": "code",
   "execution_count": 32,
   "metadata": {},
   "outputs": [
    {
     "name": "stdout",
     "output_type": "stream",
     "text": [
      "Enter a number79\n",
      "odd\n"
     ]
    }
   ],
   "source": [
    "# to check whether a given no. is odd or even\n",
    "n1 = int(input(\"Enter a number\"))\n",
    "if n1 % 2 == 0:\n",
    "    print(\"even\")\n",
    "else:\n",
    "    print(\"odd\")"
   ]
  },
  {
   "cell_type": "code",
   "execution_count": null,
   "metadata": {},
   "outputs": [],
   "source": [
    "\n"
   ]
  }
 ],
 "metadata": {
  "kernelspec": {
   "display_name": "Python 3",
   "language": "python",
   "name": "python3"
  },
  "language_info": {
   "codemirror_mode": {
    "name": "ipython",
    "version": 3
   },
   "file_extension": ".py",
   "mimetype": "text/x-python",
   "name": "python",
   "nbconvert_exporter": "python",
   "pygments_lexer": "ipython3",
   "version": "3.7.3"
  }
 },
 "nbformat": 4,
 "nbformat_minor": 2
}
