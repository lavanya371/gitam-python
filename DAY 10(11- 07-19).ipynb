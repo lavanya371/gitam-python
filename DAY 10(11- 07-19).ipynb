{
 "cells": [
  {
   "cell_type": "markdown",
   "metadata": {},
   "source": [
    "### Standard libraries\n",
    "* File I/0\n",
    "* Regular Expression\n",
    "* Date time\n",
    "* math(Numerical and Mathematical)"
   ]
  },
  {
   "cell_type": "markdown",
   "metadata": {},
   "source": [
    "Write, Read, Analysis -- Data sciences and analysis"
   ]
  },
  {
   "cell_type": "markdown",
   "metadata": {},
   "source": [
    "### File Handling in python\n",
    "* File :- Document containing information that resides on the permanent storage\n",
    "* Different Types of files :- txt,doc,pdf,csv and etc\n",
    "* Input -- Keyboard\n",
    "* Output -- File\n",
    "\n",
    "### Modes of the file I/O\n",
    "* 'w' -- This mode is used to file writing\n",
    "      -- if the file is not present first it creates a file and write some data to it\n",
    "      -- if the file is already present it will rewrite the previous content"
   ]
  },
  {
   "cell_type": "code",
   "execution_count": 2,
   "metadata": {},
   "outputs": [
    {
     "name": "stdout",
     "output_type": "stream",
     "text": [
      "file is created and data is written\n"
     ]
    }
   ],
   "source": [
    "# Function to create a file and write to the file\n",
    "def createfile(filename):\n",
    "    f = open (filename,'w')\n",
    "    for i in range (10):\n",
    "        f.write('this is %d line\\n' %i)\n",
    "    print(\"file is created and data is written\")\n",
    "    return\n",
    "createfile('file1.txt')\n",
    "        "
   ]
  },
  {
   "cell_type": "code",
   "execution_count": 3,
   "metadata": {},
   "outputs": [
    {
     "name": "stdout",
     "output_type": "stream",
     "text": [
      " Volume in drive C has no label.\n",
      " Volume Serial Number is 103C-C526\n",
      "\n",
      " Directory of C:\\Users\\219\n",
      "\n",
      "11-07-2019  09:38    <DIR>          .\n",
      "11-07-2019  09:38    <DIR>          ..\n",
      "21-06-2019  14:37    <DIR>          .anaconda\n",
      "25-06-2019  17:28               287 .bash_history\n",
      "21-06-2019  17:30    <DIR>          .conda\n",
      "21-06-2019  14:37                43 .condarc\n",
      "29-06-2019  10:31    <DIR>          .idlerc\n",
      "11-07-2019  09:04    <DIR>          .ipynb_checkpoints\n",
      "21-06-2019  14:54    <DIR>          .ipython\n",
      "22-06-2019  09:16    <DIR>          .jupyter\n",
      "28-06-2019  15:40    <DIR>          .matplotlib\n",
      "28-05-2019  09:47    <DIR>          Contacts\n",
      "11-07-2019  09:37             1,761 DAY 10(11- 07-19).ipynb\n",
      "09-07-2019  15:46            15,973 day 8 .ipynb\n",
      "11-07-2019  09:22             4,164 DAY 9 (10-07-19).ipynb\n",
      "09-07-2019  16:43    <DIR>          Desktop\n",
      "08-07-2019  12:14    <DIR>          Documents\n",
      "08-07-2019  12:16    <DIR>          Downloads\n",
      "28-05-2019  09:47    <DIR>          Favorites\n",
      "11-07-2019  09:38               160 file1.txt\n",
      "08-07-2019  16:37            12,985 gitam python day 7.ipynb\n",
      "28-05-2019  09:47    <DIR>          Links\n",
      "28-05-2019  09:47    <DIR>          Music\n",
      "21-06-2019  16:46             4,235 phyton 1.ipynb\n",
      "28-05-2019  09:47    <DIR>          Pictures\n",
      "28-05-2019  09:47    <DIR>          Saved Games\n",
      "28-05-2019  09:47    <DIR>          Searches\n",
      "09-07-2019  16:50               595 Untitled.ipynb\n",
      "28-05-2019  09:47    <DIR>          Videos\n",
      "               9 File(s)         40,203 bytes\n",
      "              20 Dir(s)  55,959,605,248 bytes free\n"
     ]
    }
   ],
   "source": [
    "ls"
   ]
  },
  {
   "cell_type": "code",
   "execution_count": 10,
   "metadata": {},
   "outputs": [
    {
     "name": "stdout",
     "output_type": "stream",
     "text": [
      "file is created and data is written\n"
     ]
    }
   ],
   "source": [
    "def createfile(filename):\n",
    "    f = open (filename,'w')\n",
    "    for i in range (10):\n",
    "        f.write('Testing ...\\n')\n",
    "    print(\"file is created and data is written\")\n",
    "    return\n",
    "createfile('file1.txt')"
   ]
  },
  {
   "cell_type": "code",
   "execution_count": 5,
   "metadata": {},
   "outputs": [
    {
     "name": "stdout",
     "output_type": "stream",
     "text": [
      "file created and successfully data written\n"
     ]
    }
   ],
   "source": [
    "def appenddata(filename):\n",
    "    f= open(filename,'a')\n",
    "    for i in range (10):\n",
    "        f.write('This is %d line\\n ' %i)\n",
    "    print(\"file created and successfully data written\")\n",
    "    return\n",
    "appenddata('file2.txt')"
   ]
  },
  {
   "cell_type": "code",
   "execution_count": 6,
   "metadata": {},
   "outputs": [
    {
     "name": "stdout",
     "output_type": "stream",
     "text": [
      "file created and successfully data written\n"
     ]
    }
   ],
   "source": [
    "def appenddata(filename):\n",
    "    f= open(filename,'a')\n",
    "    f.write(\"New line1 \\n\")\n",
    "    f.write(\"new line 2 \\ n\")\n",
    "    print(\"file created and successfully data written\")\n",
    "    return\n",
    "appenddata('file2.txt')"
   ]
  },
  {
   "cell_type": "code",
   "execution_count": 9,
   "metadata": {},
   "outputs": [
    {
     "name": "stdout",
     "output_type": "stream",
     "text": [
      "This is 0 line\n",
      " This is 1 line\n",
      " This is 2 line\n",
      " This is 3 line\n",
      " This is 4 line\n",
      " This is 5 line\n",
      " This is 6 line\n",
      " This is 7 line\n",
      " This is 8 line\n",
      " This is 9 line\n",
      " New line1 \n",
      "new line 2 \\ n\n"
     ]
    }
   ],
   "source": [
    "# function to read the file data\n",
    "def readfiledata(filename):\n",
    "    f = open(filename,'r')\n",
    "    if f.mode == 'r':\n",
    "        x = f. read()\n",
    "        print(x)\n",
    "    f.close()\n",
    "    return\n",
    "readfiledata('file2.txt')\n",
    "    "
   ]
  },
  {
   "cell_type": "code",
   "execution_count": 15,
   "metadata": {},
   "outputs": [
    {
     "name": "stdout",
     "output_type": "stream",
     "text": [
      "Enter the filenamedata.txt\n",
      "enter the modeof the filer\n",
      "data to the file\n"
     ]
    }
   ],
   "source": [
    "# Function to read a file\n",
    "def fileoperations(filename,mode):\n",
    "    with open(filename,mode) as f:\n",
    "        if f.mode == 'r':\n",
    "            data = f. read()\n",
    "            print(data)\n",
    "        elif f.mode == 'a':\n",
    "            f.write('data to the file\\n')\n",
    "            print('the data successfully written')\n",
    "    f.close()\n",
    "    return\n",
    "filename = input('Enter the filename')\n",
    "mode = input('enter the modeof the file')\n",
    "fileoperations(filename,mode)\n"
   ]
  },
  {
   "cell_type": "code",
   "execution_count": 22,
   "metadata": {},
   "outputs": [
    {
     "name": "stdout",
     "output_type": "stream",
     "text": [
      "enter the filename:file2.txt\n",
      "enter the word:This\n"
     ]
    },
    {
     "data": {
      "text/plain": [
       "10"
      ]
     },
     "execution_count": 22,
     "metadata": {},
     "output_type": "execute_result"
    }
   ],
   "source": [
    "# Data Analysis\n",
    "# Word count program\n",
    "def wordcount (filename,word):\n",
    "    with open (filename,'r') as f:\n",
    "        if f.mode == 'r':\n",
    "            x = f.read()\n",
    "            li = x. split()     # it spilts the string with whitespace\n",
    "    cnt = li.count(word)\n",
    "    return cnt\n",
    "filename = input(\"enter the filename:\")\n",
    "word = input(\"enter the word:\")  # which word count do u need\n",
    "wordcount(filename,word)"
   ]
  },
  {
   "cell_type": "code",
   "execution_count": 23,
   "metadata": {},
   "outputs": [
    {
     "name": "stdout",
     "output_type": "stream",
     "text": [
      "enter the filename:file2.txt\n"
     ]
    },
    {
     "data": {
      "text/plain": [
       "185"
      ]
     },
     "execution_count": 23,
     "metadata": {},
     "output_type": "execute_result"
    }
   ],
   "source": [
    "# Character count from a given file\n",
    "def charcount(filename):\n",
    "    with open (filename,'r') as f:\n",
    "        if f.mode == 'r':\n",
    "            x = f.read()\n",
    "            li = list(x)  # convert the string - char\n",
    "    return len(li)\n",
    "filename = input(\"enter the filename:\")\n",
    "charcount(filename)"
   ]
  },
  {
   "cell_type": "code",
   "execution_count": 27,
   "metadata": {},
   "outputs": [
    {
     "name": "stdout",
     "output_type": "stream",
     "text": [
      "enter the filename:file2.txt\n"
     ]
    },
    {
     "data": {
      "text/plain": [
       "12"
      ]
     },
     "execution_count": 27,
     "metadata": {},
     "output_type": "execute_result"
    }
   ],
   "source": [
    "#  Function to find the no of lines\n",
    "# Input -- filename(file2.txt)\n",
    "#output --- 12(no.of lines)\n",
    "def countoflines(filename):\n",
    "    with open (filename,'r') as f:\n",
    "        if f. mode == 'r':\n",
    "            x = f.read()\n",
    "            li = x. split(\"\\n\")\n",
    "    return len(li)\n",
    "filename = input(\"enter the filename:\")\n",
    "countoflines(filename)"
   ]
  },
  {
   "cell_type": "code",
   "execution_count": 37,
   "metadata": {},
   "outputs": [
    {
     "name": "stdout",
     "output_type": "stream",
     "text": [
      "enter the filename:file2.txt\n"
     ]
    },
    {
     "data": {
      "text/plain": [
       "'uppercase = 11, lowercase = 104'"
      ]
     },
     "execution_count": 37,
     "metadata": {},
     "output_type": "execute_result"
    }
   ],
   "source": [
    "# Function to print the upper and lower characters\n",
    "def casecount(filename):\n",
    "    cntupper = 0\n",
    "    cntlower = 0\n",
    "    with open(filename,'r') as f:\n",
    "        if f. mode == 'r':\n",
    "            x = f.read()\n",
    "            li = list(x)\n",
    "        for i in li:\n",
    "            if i.isupper():\n",
    "                cntupper +=  1  #cntupper = cntupper + 1\n",
    "            elif i.islower():\n",
    "                cntlower +=   1   #cntlower = cntlower +1\n",
    "        output = 'uppercase = {0}, lowercase = {1}' .format(cntupper,cntlower)\n",
    "        return output\n",
    "filename = input('enter the filename:')\n",
    "casecount(filename)\n",
    "                "
   ]
  },
  {
   "cell_type": "markdown",
   "metadata": {},
   "source": [
    "### Math,random,,os\n",
    "\n",
    "* Os package : it containsthe certain methods which works witho OS"
   ]
  },
  {
   "cell_type": "code",
   "execution_count": 39,
   "metadata": {},
   "outputs": [
    {
     "name": "stdout",
     "output_type": "stream",
     "text": [
      " Volume in drive C has no label.\n",
      " Volume Serial Number is 103C-C526\n",
      "\n",
      " Directory of C:\\Users\\219\n",
      "\n",
      "11-07-2019  12:31    <DIR>          .\n",
      "11-07-2019  12:31    <DIR>          ..\n",
      "21-06-2019  14:37    <DIR>          .anaconda\n",
      "25-06-2019  17:28               287 .bash_history\n",
      "21-06-2019  17:30    <DIR>          .conda\n",
      "21-06-2019  14:37                43 .condarc\n",
      "29-06-2019  10:31    <DIR>          .idlerc\n",
      "11-07-2019  09:04    <DIR>          .ipynb_checkpoints\n",
      "21-06-2019  14:54    <DIR>          .ipython\n",
      "22-06-2019  09:16    <DIR>          .jupyter\n",
      "28-06-2019  15:40    <DIR>          .matplotlib\n",
      "28-05-2019  09:47    <DIR>          Contacts\n",
      "11-07-2019  10:27                16 data.txt\n",
      "11-07-2019  12:31            11,590 DAY 10(11- 07-19).ipynb\n",
      "09-07-2019  15:46            15,973 day 8 .ipynb\n",
      "11-07-2019  11:12            12,347 DAY 9 (10-07-19).ipynb\n",
      "09-07-2019  16:43    <DIR>          Desktop\n",
      "08-07-2019  12:14    <DIR>          Documents\n",
      "08-07-2019  12:16    <DIR>          Downloads\n",
      "28-05-2019  09:47    <DIR>          Favorites\n",
      "11-07-2019  10:14               130 file1.txt\n",
      "11-07-2019  10:06               196 file2.txt\n",
      "08-07-2019  16:37            12,985 gitam python day 7.ipynb\n",
      "28-05-2019  09:47    <DIR>          Links\n",
      "28-05-2019  09:47    <DIR>          Music\n",
      "21-06-2019  16:46             4,235 phyton 1.ipynb\n",
      "28-05-2019  09:47    <DIR>          Pictures\n",
      "28-05-2019  09:47    <DIR>          Saved Games\n",
      "28-05-2019  09:47    <DIR>          Searches\n",
      "09-07-2019  16:50               595 Untitled.ipynb\n",
      "28-05-2019  09:47    <DIR>          Videos\n",
      "              11 File(s)         58,397 bytes\n",
      "              20 Dir(s)  55,715,979,264 bytes free\n"
     ]
    }
   ],
   "source": [
    "ls"
   ]
  },
  {
   "cell_type": "markdown",
   "metadata": {},
   "source": [
    "- olderversion of python -- os.listdir()\n",
    "-  newversion python     --  os.scandir() and pathlib.path()"
   ]
  },
  {
   "cell_type": "code",
   "execution_count": 49,
   "metadata": {},
   "outputs": [
    {
     "ename": "FileNotFoundError",
     "evalue": "[WinError 3] The system cannot find the path specified: 'Git/'",
     "output_type": "error",
     "traceback": [
      "\u001b[1;31m---------------------------------------------------------------------------\u001b[0m",
      "\u001b[1;31mFileNotFoundError\u001b[0m                         Traceback (most recent call last)",
      "\u001b[1;32m<ipython-input-49-465ea7254ce2>\u001b[0m in \u001b[0;36m<module>\u001b[1;34m\u001b[0m\n\u001b[1;32m----> 1\u001b[1;33m \u001b[0mli\u001b[0m \u001b[1;33m=\u001b[0m \u001b[0mos\u001b[0m\u001b[1;33m.\u001b[0m\u001b[0mscandir\u001b[0m\u001b[1;33m(\u001b[0m\u001b[1;34m'Git/'\u001b[0m\u001b[1;33m)\u001b[0m\u001b[1;33m\u001b[0m\u001b[1;33m\u001b[0m\u001b[0m\n\u001b[0m\u001b[0;32m      2\u001b[0m \u001b[1;32mfor\u001b[0m \u001b[0mi\u001b[0m \u001b[1;32min\u001b[0m \u001b[0mli\u001b[0m\u001b[1;33m:\u001b[0m\u001b[1;33m\u001b[0m\u001b[1;33m\u001b[0m\u001b[0m\n\u001b[0;32m      3\u001b[0m     \u001b[0mprint\u001b[0m\u001b[1;33m(\u001b[0m\u001b[0mi\u001b[0m\u001b[1;33m)\u001b[0m\u001b[1;33m\u001b[0m\u001b[1;33m\u001b[0m\u001b[0m\n",
      "\u001b[1;31mFileNotFoundError\u001b[0m: [WinError 3] The system cannot find the path specified: 'Git/'"
     ]
    }
   ],
   "source": [
    "li = os.scandir('Git/')\n",
    "for i in li:\n",
    "    print(i)"
   ]
  },
  {
   "cell_type": "code",
   "execution_count": 50,
   "metadata": {},
   "outputs": [
    {
     "ename": "ImportError",
     "evalue": "cannot import name 'path' from 'pathlib' (C:\\ProgramData\\Anaconda3\\lib\\pathlib.py)",
     "output_type": "error",
     "traceback": [
      "\u001b[1;31m---------------------------------------------------------------------------\u001b[0m",
      "\u001b[1;31mImportError\u001b[0m                               Traceback (most recent call last)",
      "\u001b[1;32m<ipython-input-50-5a47afb39779>\u001b[0m in \u001b[0;36m<module>\u001b[1;34m\u001b[0m\n\u001b[1;32m----> 1\u001b[1;33m \u001b[1;32mfrom\u001b[0m \u001b[0mpathlib\u001b[0m \u001b[1;32mimport\u001b[0m \u001b[0mpath\u001b[0m\u001b[1;33m\u001b[0m\u001b[1;33m\u001b[0m\u001b[0m\n\u001b[0m\u001b[0;32m      2\u001b[0m \u001b[0mli\u001b[0m \u001b[1;33m=\u001b[0m \u001b[0mpath\u001b[0m\u001b[1;33m(\u001b[0m\u001b[1;34m'git/'\u001b[0m\u001b[1;33m)\u001b[0m\u001b[1;33m\u001b[0m\u001b[1;33m\u001b[0m\u001b[0m\n\u001b[0;32m      3\u001b[0m \u001b[1;32mfor\u001b[0m \u001b[0mi\u001b[0m \u001b[1;32min\u001b[0m \u001b[0mli\u001b[0m\u001b[1;33m.\u001b[0m\u001b[0miterdir\u001b[0m\u001b[1;33m(\u001b[0m\u001b[1;33m)\u001b[0m\u001b[1;33m:\u001b[0m\u001b[1;33m\u001b[0m\u001b[1;33m\u001b[0m\u001b[0m\n\u001b[0;32m      4\u001b[0m     \u001b[0mprint\u001b[0m\u001b[1;33m(\u001b[0m\u001b[0mi\u001b[0m\u001b[1;33m.\u001b[0m\u001b[0mname\u001b[0m\u001b[1;33m)\u001b[0m\u001b[1;33m\u001b[0m\u001b[1;33m\u001b[0m\u001b[0m\n",
      "\u001b[1;31mImportError\u001b[0m: cannot import name 'path' from 'pathlib' (C:\\ProgramData\\Anaconda3\\lib\\pathlib.py)"
     ]
    }
   ],
   "source": [
    "from pathlib import path\n",
    "li = path('git/')\n",
    "for i in li.iterdir():\n",
    "    print(i.name)"
   ]
  },
  {
   "cell_type": "markdown",
   "metadata": {},
   "source": [
    "### Listing subdirectories\n"
   ]
  },
  {
   "cell_type": "code",
   "execution_count": 52,
   "metadata": {},
   "outputs": [
    {
     "ename": "FileNotFoundError",
     "evalue": "[WinError 3] The system cannot find the path specified: 'git/'",
     "output_type": "error",
     "traceback": [
      "\u001b[1;31m---------------------------------------------------------------------------\u001b[0m",
      "\u001b[1;31mFileNotFoundError\u001b[0m                         Traceback (most recent call last)",
      "\u001b[1;32m<ipython-input-52-9b2af0ed1b57>\u001b[0m in \u001b[0;36m<module>\u001b[1;34m\u001b[0m\n\u001b[0;32m      1\u001b[0m \u001b[0mdirpath\u001b[0m \u001b[1;33m=\u001b[0m \u001b[1;34m'git/'\u001b[0m\u001b[1;33m\u001b[0m\u001b[1;33m\u001b[0m\u001b[0m\n\u001b[1;32m----> 2\u001b[1;33m \u001b[1;32mfor\u001b[0m \u001b[0mi\u001b[0m \u001b[1;32min\u001b[0m \u001b[0mos\u001b[0m\u001b[1;33m.\u001b[0m\u001b[0mlistdir\u001b[0m\u001b[1;33m(\u001b[0m\u001b[0mdirpath\u001b[0m\u001b[1;33m)\u001b[0m\u001b[1;33m:\u001b[0m\u001b[1;33m\u001b[0m\u001b[1;33m\u001b[0m\u001b[0m\n\u001b[0m\u001b[0;32m      3\u001b[0m     \u001b[1;32mif\u001b[0m \u001b[0mos\u001b[0m\u001b[1;33m.\u001b[0m\u001b[0mpath\u001b[0m\u001b[1;33m.\u001b[0m\u001b[0misdir\u001b[0m\u001b[1;33m(\u001b[0m\u001b[0mos\u001b[0m\u001b[1;33m.\u001b[0m\u001b[0mpath\u001b[0m\u001b[1;33m.\u001b[0m\u001b[0mjoin\u001b[0m\u001b[1;33m(\u001b[0m\u001b[0mdirpath\u001b[0m\u001b[1;33m,\u001b[0m\u001b[0mi\u001b[0m\u001b[1;33m)\u001b[0m\u001b[1;33m)\u001b[0m\u001b[1;33m:\u001b[0m\u001b[1;33m\u001b[0m\u001b[1;33m\u001b[0m\u001b[0m\n\u001b[0;32m      4\u001b[0m         \u001b[0mprint\u001b[0m\u001b[1;33m(\u001b[0m\u001b[0mi\u001b[0m\u001b[1;33m)\u001b[0m\u001b[1;33m\u001b[0m\u001b[1;33m\u001b[0m\u001b[0m\n\u001b[0;32m      5\u001b[0m \u001b[1;33m\u001b[0m\u001b[0m\n",
      "\u001b[1;31mFileNotFoundError\u001b[0m: [WinError 3] The system cannot find the path specified: 'git/'"
     ]
    }
   ],
   "source": [
    "dirpath = 'git/'\n",
    "for i in os.listdir(dirpath):\n",
    "    if os.path.isdir(os.path.join(dirpath,i)):\n",
    "        print(i)\n",
    "    \n"
   ]
  },
  {
   "cell_type": "markdown",
   "metadata": {},
   "source": [
    "### Creating a single directory\n"
   ]
  },
  {
   "cell_type": "code",
   "execution_count": 53,
   "metadata": {},
   "outputs": [],
   "source": [
    "os.mkdir('single directory')"
   ]
  },
  {
   "cell_type": "code",
   "execution_count": 55,
   "metadata": {},
   "outputs": [],
   "source": [
    "import pathlib\n",
    "p = pathlib.Path('test folder')\n",
    "p.mkdir()"
   ]
  },
  {
   "cell_type": "code",
   "execution_count": 56,
   "metadata": {},
   "outputs": [
    {
     "name": "stdout",
     "output_type": "stream",
     "text": [
      " Volume in drive C has no label.\n",
      " Volume Serial Number is 103C-C526\n",
      "\n",
      " Directory of C:\\\n",
      "\n",
      "11-06-2009  03:12                24 autoexec.bat\n",
      "11-06-2009  03:12                10 config.sys\n",
      "27-06-2019  10:43    <DIR>          desktop\n",
      "08-06-2019  11:14    <DIR>          oraclexe\n",
      "14-07-2009  08:07    <DIR>          PerfLogs\n",
      "06-07-2019  16:40    <DIR>          Program Files\n",
      "11-07-2019  14:47    <DIR>          single directory\n",
      "11-07-2019  14:48    <DIR>          test folder\n",
      "08-06-2019  11:42    <DIR>          Users\n",
      "29-06-2019  10:28    <DIR>          Windows\n",
      "               2 File(s)             34 bytes\n",
      "               8 Dir(s)  55,473,537,024 bytes free\n"
     ]
    }
   ],
   "source": [
    "ls"
   ]
  },
  {
   "cell_type": "markdown",
   "metadata": {},
   "source": [
    "### Creating multiple directories\n"
   ]
  },
  {
   "cell_type": "code",
   "execution_count": 57,
   "metadata": {},
   "outputs": [],
   "source": [
    "import os\n",
    "os.makedirs('2019/july/11')"
   ]
  },
  {
   "cell_type": "code",
   "execution_count": 58,
   "metadata": {},
   "outputs": [
    {
     "name": "stdout",
     "output_type": "stream",
     "text": [
      " Volume in drive C has no label.\n",
      " Volume Serial Number is 103C-C526\n",
      "\n",
      " Directory of C:\\\n",
      "\n",
      "11-07-2019  15:02    <DIR>          2019\n",
      "11-06-2009  03:12                24 autoexec.bat\n",
      "11-06-2009  03:12                10 config.sys\n",
      "27-06-2019  10:43    <DIR>          desktop\n",
      "08-06-2019  11:14    <DIR>          oraclexe\n",
      "14-07-2009  08:07    <DIR>          PerfLogs\n",
      "06-07-2019  16:40    <DIR>          Program Files\n",
      "11-07-2019  14:47    <DIR>          single directory\n",
      "11-07-2019  14:48    <DIR>          test folder\n",
      "08-06-2019  11:42    <DIR>          Users\n",
      "29-06-2019  10:28    <DIR>          Windows\n",
      "               2 File(s)             34 bytes\n",
      "               9 Dir(s)  55,472,451,584 bytes free\n"
     ]
    }
   ],
   "source": [
    "ls"
   ]
  },
  {
   "cell_type": "markdown",
   "metadata": {},
   "source": [
    "### Filename Pattern Matching\n"
   ]
  },
  {
   "cell_type": "code",
   "execution_count": 59,
   "metadata": {},
   "outputs": [
    {
     "name": "stdout",
     "output_type": "stream",
     "text": [
      " Volume in drive C has no label.\n",
      " Volume Serial Number is 103C-C526\n",
      "\n",
      " Directory of C:\\\n",
      "\n",
      "11-07-2019  15:02    <DIR>          2019\n",
      "11-06-2009  03:12                24 autoexec.bat\n",
      "11-06-2009  03:12                10 config.sys\n",
      "27-06-2019  10:43    <DIR>          desktop\n",
      "08-06-2019  11:14    <DIR>          oraclexe\n",
      "14-07-2009  08:07    <DIR>          PerfLogs\n",
      "06-07-2019  16:40    <DIR>          Program Files\n",
      "11-07-2019  14:47    <DIR>          single directory\n",
      "11-07-2019  14:48    <DIR>          test folder\n",
      "08-06-2019  11:42    <DIR>          Users\n",
      "29-06-2019  10:28    <DIR>          Windows\n",
      "               2 File(s)             34 bytes\n",
      "               9 Dir(s)  55,472,246,784 bytes free\n"
     ]
    }
   ],
   "source": [
    "ls"
   ]
  },
  {
   "cell_type": "code",
   "execution_count": 67,
   "metadata": {},
   "outputs": [
    {
     "name": "stdout",
     "output_type": "stream",
     "text": [
      "C:\\\n"
     ]
    }
   ],
   "source": [
    "cd  .."
   ]
  },
  {
   "cell_type": "code",
   "execution_count": 65,
   "metadata": {},
   "outputs": [
    {
     "ename": "FileNotFoundError",
     "evalue": "[WinError 3] The system cannot find the path specified: 'Git/'",
     "output_type": "error",
     "traceback": [
      "\u001b[1;31m---------------------------------------------------------------------------\u001b[0m",
      "\u001b[1;31mFileNotFoundError\u001b[0m                         Traceback (most recent call last)",
      "\u001b[1;32m<ipython-input-65-dd7516e79799>\u001b[0m in \u001b[0;36m<module>\u001b[1;34m\u001b[0m\n\u001b[0;32m      1\u001b[0m \u001b[1;32mimport\u001b[0m \u001b[0mos\u001b[0m\u001b[1;33m\u001b[0m\u001b[1;33m\u001b[0m\u001b[0m\n\u001b[0;32m      2\u001b[0m \u001b[0mdirPath\u001b[0m \u001b[1;33m=\u001b[0m \u001b[1;34m'Git/'\u001b[0m\u001b[1;33m\u001b[0m\u001b[1;33m\u001b[0m\u001b[0m\n\u001b[1;32m----> 3\u001b[1;33m \u001b[1;32mfor\u001b[0m \u001b[0mf_name\u001b[0m \u001b[1;32min\u001b[0m \u001b[0mos\u001b[0m\u001b[1;33m.\u001b[0m\u001b[0mlistdir\u001b[0m\u001b[1;33m(\u001b[0m\u001b[0mdirPath\u001b[0m\u001b[1;33m)\u001b[0m\u001b[1;33m:\u001b[0m\u001b[1;33m\u001b[0m\u001b[1;33m\u001b[0m\u001b[0m\n\u001b[0m\u001b[0;32m      4\u001b[0m     \u001b[1;32mif\u001b[0m \u001b[0mf_name\u001b[0m\u001b[1;33m.\u001b[0m\u001b[0mendswith\u001b[0m\u001b[1;33m(\u001b[0m\u001b[1;34m'.ipynb'\u001b[0m\u001b[1;33m)\u001b[0m\u001b[1;33m:\u001b[0m\u001b[1;33m\u001b[0m\u001b[1;33m\u001b[0m\u001b[0m\n\u001b[0;32m      5\u001b[0m         \u001b[0mprint\u001b[0m\u001b[1;33m(\u001b[0m\u001b[0mf_name\u001b[0m\u001b[1;33m)\u001b[0m\u001b[1;33m\u001b[0m\u001b[1;33m\u001b[0m\u001b[0m\n",
      "\u001b[1;31mFileNotFoundError\u001b[0m: [WinError 3] The system cannot find the path specified: 'Git/'"
     ]
    }
   ],
   "source": [
    "import os\n",
    "dirPath = 'Git/'\n",
    "for f_name in os.listdir(dirPath):\n",
    "    if f_name.endswith('.ipynb'):\n",
    "        print(f_name)"
   ]
  },
  {
   "cell_type": "markdown",
   "metadata": {},
   "source": [
    "### Deleting files and directories"
   ]
  },
  {
   "cell_type": "code",
   "execution_count": 68,
   "metadata": {},
   "outputs": [
    {
     "ename": "FileNotFoundError",
     "evalue": "[WinError 2] The system cannot find the file specified: 'file1.txt'",
     "output_type": "error",
     "traceback": [
      "\u001b[1;31m---------------------------------------------------------------------------\u001b[0m",
      "\u001b[1;31mFileNotFoundError\u001b[0m                         Traceback (most recent call last)",
      "\u001b[1;32m<ipython-input-68-463a2ee3c072>\u001b[0m in \u001b[0;36m<module>\u001b[1;34m\u001b[0m\n\u001b[0;32m      1\u001b[0m \u001b[1;32mimport\u001b[0m \u001b[0mos\u001b[0m\u001b[1;33m\u001b[0m\u001b[1;33m\u001b[0m\u001b[0m\n\u001b[0;32m      2\u001b[0m \u001b[0mdata_file\u001b[0m \u001b[1;33m=\u001b[0m \u001b[1;34m'file1.txt'\u001b[0m\u001b[1;33m\u001b[0m\u001b[1;33m\u001b[0m\u001b[0m\n\u001b[1;32m----> 3\u001b[1;33m \u001b[0mos\u001b[0m\u001b[1;33m.\u001b[0m\u001b[0mremove\u001b[0m\u001b[1;33m(\u001b[0m\u001b[0mdata_file\u001b[0m\u001b[1;33m)\u001b[0m\u001b[1;33m\u001b[0m\u001b[1;33m\u001b[0m\u001b[0m\n\u001b[0m",
      "\u001b[1;31mFileNotFoundError\u001b[0m: [WinError 2] The system cannot find the file specified: 'file1.txt'"
     ]
    }
   ],
   "source": [
    "import os\n",
    "data_file = 'file1.txt'\n",
    "os.remove(data_file)"
   ]
  },
  {
   "cell_type": "markdown",
   "metadata": {},
   "source": [
    "### Regular Expressions"
   ]
  }
 ],
 "metadata": {
  "kernelspec": {
   "display_name": "Python 3",
   "language": "python",
   "name": "python3"
  },
  "language_info": {
   "codemirror_mode": {
    "name": "ipython",
    "version": 3
   },
   "file_extension": ".py",
   "mimetype": "text/x-python",
   "name": "python",
   "nbconvert_exporter": "python",
   "pygments_lexer": "ipython3",
   "version": "3.7.3"
  }
 },
 "nbformat": 4,
 "nbformat_minor": 2
}
